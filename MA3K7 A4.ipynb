{
 "cells": [
  {
   "cell_type": "code",
   "execution_count": 1,
   "id": "0b8147af",
   "metadata": {},
   "outputs": [
    {
     "data": {
      "image/png": "[encoded data removed]",
      "text/plain": [
       "<Figure size 432x288 with 1 Axes>"
      ]
     },
     "metadata": {
      "needs_background": "light"
     },
     "output_type": "display_data"
    },
    {
     "data": {
      "text/plain": [
       "0.6666666865348816"
      ]
     },
     "execution_count": 1,
     "metadata": {},
     "output_type": "execute_result"
    }
   ],
   "source": [
    "## Plot recurrence relation\n",
    "import numpy as np\n",
    "import matplotlib.pyplot as plt\n",
    "%matplotlib inline\n",
    "\n",
    "A = np.array([1,0.5])\n",
    "for i in np.arange(2,26):\n",
    "    a = (1/2)*A[i-1]+(1/2)*A[i-2]\n",
    "    A = np.append(A,a)\n",
    "plt.gca().yaxis.set_major_formatter('{:.2f}'.format)\n",
    "plt.xlabel(\"Number of Steps\")\n",
    "plt.ylabel(\"Probability\")\n",
    "plt.plot(A)\n",
    "plt.grid('on')\n",
    "plt.show()\n",
    "A[24] #25 is 24 step away from the starting point 1"
   ]
  },
  {
   "cell_type": "code",
   "execution_count": 2,
   "id": "0d85570c",
   "metadata": {},
   "outputs": [
    {
     "data": {
      "text/latex": [
       "$\\displaystyle 0.333333333333333 \\left(-0.5\\right)^{k} + 0.666666666666667 \\cdot 1.0^{k}$"
      ],
      "text/plain": [
       "0.333333333333333*(-0.5)**k + 0.666666666666667*1.0**k"
      ]
     },
     "execution_count": 2,
     "metadata": {},
     "output_type": "execute_result"
    }
   ],
   "source": [
    "# Symbolic solution a_n\n",
    "\n",
    "# symbolic solve characteristic eq.\n",
    "import sympy as sp\n",
    "from sympy.abc import m, x, y, k\n",
    "\n",
    "M = sp.solve(m**2 - (1/2)*m -(1/2), m)\n",
    "\n",
    "# symbolic solve linear system\n",
    "A = sp.Matrix([[1, 1], [M[0], M[1]]])\n",
    "b = sp.Matrix([1,0.5])\n",
    "C,= sp.linsolve((A, b), x, y)\n",
    "\n",
    "def an(n):\n",
    "    return sum(C[i]*M[i]**n for i in range(2))\n",
    "\n",
    "an(k) "
   ]
  },
  {
   "cell_type": "code",
   "execution_count": 3,
   "id": "aba95e28",
   "metadata": {},
   "outputs": [
    {
     "data": {
      "text/latex": [
       "$\\displaystyle 0.666666686534882$"
      ],
      "text/plain": [
       "0.666666686534882"
      ]
     },
     "execution_count": 3,
     "metadata": {},
     "output_type": "execute_result"
    }
   ],
   "source": [
    "an(24)#similarly 25 is 24 step away from the starting point 1"
   ]
  },
  {
   "cell_type": "code",
   "execution_count": 4,
   "id": "7271abd0",
   "metadata": {},
   "outputs": [
    {
     "data": {
      "text/plain": [
       "array([0.66666666+0.j, 0.66666669+0.j])"
      ]
     },
     "execution_count": 4,
     "metadata": {},
     "output_type": "execute_result"
    }
   ],
   "source": [
    "import numpy as np\n",
    "from scipy import linalg as LA\n",
    "\n",
    "#which term to calculate?\n",
    "n=24 #25 is 24 step away from the starting point 1\n",
    "\n",
    "A= np.array([[1/2, 1/2],[1,0]])\n",
    "\n",
    "lam, P = LA.eig(A)\n",
    "Dn = np.diag(lam**n)\n",
    "Pinv = LA.inv(P)\n",
    "Init = np.array([0.5, 1])\n",
    "\n",
    "P@Dn@Pinv@Init"
   ]
  }
 ],
 "metadata": {
  "kernelspec": {
   "display_name": "Python 3 (ipykernel)",
   "language": "python",
   "name": "python3"
  },
  "language_info": {
   "codemirror_mode": {
    "name": "ipython",
    "version": 3
   },
   "file_extension": ".py",
   "mimetype": "text/x-python",
   "name": "python",
   "nbconvert_exporter": "python",
   "pygments_lexer": "ipython3",
   "version": "3.9.12"
  }
 },
 "nbformat": 4,
 "nbformat_minor": 5
}
